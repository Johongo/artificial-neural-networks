{
 "metadata": {
  "language_info": {
   "codemirror_mode": {
    "name": "ipython",
    "version": 3
   },
   "file_extension": ".py",
   "mimetype": "text/x-python",
   "name": "python",
   "nbconvert_exporter": "python",
   "pygments_lexer": "ipython3",
   "version": "3.8.5-final"
  },
  "orig_nbformat": 2,
  "kernelspec": {
   "name": "Python 3.8.5 64-bit ('3.8.5': pyenv)",
   "display_name": "Python 3.8.5 64-bit ('3.8.5': pyenv)",
   "metadata": {
    "interpreter": {
     "hash": "fbf599a900ce400eb7a3a7d921c6d7bb2d1082ff9f9e1eebf399936d666fe1df"
    }
   }
  }
 },
 "nbformat": 4,
 "nbformat_minor": 2,
 "cells": [
  {
   "cell_type": "code",
   "execution_count": 19,
   "metadata": {},
   "outputs": [],
   "source": [
    "# Packages\n",
    "import numpy as np\n",
    "import pickle\n"
   ]
  },
  {
   "cell_type": "code",
   "execution_count": 32,
   "metadata": {
    "tags": []
   },
   "outputs": [
    {
     "output_type": "stream",
     "name": "stdout",
     "text": "(10000, 3)\n"
    }
   ],
   "source": [
    "# Data\n",
    "training = np.genfromtxt('training_set.csv', delimiter = ',')\n",
    "validation = np.genfromtxt('validation_set.csv', delimiter = ',')\n"
   ]
  },
  {
   "cell_type": "code",
   "execution_count": 43,
   "metadata": {
    "tags": []
   },
   "outputs": [
    {
     "output_type": "error",
     "ename": "ValueError",
     "evalue": "non-broadcastable output operand with shape (1,4) doesn&#39;t match the broadcast shape (4,4)",
     "traceback": [
      "\u001b[0;31m---------------------------------------------------------------------------\u001b[0m",
      "\u001b[0;31mValueError\u001b[0m                                Traceback (most recent call last)",
      "\u001b[0;32m&lt;ipython-input-43-51873918d9a5&gt;\u001b[0m in \u001b[0;36m&lt;module&gt;\u001b[0;34m\u001b[0m\n\u001b[1;32m     92\u001b[0m \u001b[0;34m\u001b[0m\u001b[0m\n\u001b[1;32m     93\u001b[0m \u001b[0;32mif\u001b[0m \u001b[0m__name__\u001b[0m \u001b[0;34m==\u001b[0m \u001b[0;34m&quot;__main__&quot;\u001b[0m\u001b[0;34m:\u001b[0m\u001b[0;34m\u001b[0m\u001b[0;34m\u001b[0m\u001b[0m\n\u001b[0;32m---&gt; 94\u001b[0;31m     \u001b[0mmain\u001b[0m\u001b[0;34m(\u001b[0m\u001b[0;34m)\u001b[0m\u001b[0;34m\u001b[0m\u001b[0;34m\u001b[0m\u001b[0m\n\u001b[0m",
      "\u001b[0;32m&lt;ipython-input-43-51873918d9a5&gt;\u001b[0m in \u001b[0;36mmain\u001b[0;34m()\u001b[0m\n\u001b[1;32m     88\u001b[0m \u001b[0;32mdef\u001b[0m \u001b[0mmain\u001b[0m\u001b[0;34m(\u001b[0m\u001b[0;34m)\u001b[0m\u001b[0;34m:\u001b[0m\u001b[0;34m\u001b[0m\u001b[0;34m\u001b[0m\u001b[0m\n\u001b[1;32m     89\u001b[0m     \u001b[0mnetwork\u001b[0m \u001b[0;34m=\u001b[0m \u001b[0mTwoLayerPerceptron\u001b[0m\u001b[0;34m(\u001b[0m\u001b[0mtraining\u001b[0m\u001b[0;34m,\u001b[0m \u001b[0mvalidation\u001b[0m\u001b[0;34m)\u001b[0m\u001b[0;34m\u001b[0m\u001b[0;34m\u001b[0m\u001b[0m\n\u001b[0;32m---&gt; 90\u001b[0;31m     \u001b[0mnetwork\u001b[0m\u001b[0;34m.\u001b[0m\u001b[0mtrain\u001b[0m\u001b[0;34m(\u001b[0m\u001b[0;34m)\u001b[0m\u001b[0;34m\u001b[0m\u001b[0;34m\u001b[0m\u001b[0m\n\u001b[0m\u001b[1;32m     91\u001b[0m     \u001b[0mnetwork\u001b[0m\u001b[0;34m.\u001b[0m\u001b[0mprint\u001b[0m\u001b[0;34m(\u001b[0m\u001b[0;34m)\u001b[0m\u001b[0;34m\u001b[0m\u001b[0;34m\u001b[0m\u001b[0m\n\u001b[1;32m     92\u001b[0m \u001b[0;34m\u001b[0m\u001b[0m\n",
      "\u001b[0;32m&lt;ipython-input-43-51873918d9a5&gt;\u001b[0m in \u001b[0;36mtrain\u001b[0;34m(self)\u001b[0m\n\u001b[1;32m     69\u001b[0m     \u001b[0;32mdef\u001b[0m \u001b[0mtrain\u001b[0m\u001b[0;34m(\u001b[0m\u001b[0mself\u001b[0m\u001b[0;34m)\u001b[0m\u001b[0;34m:\u001b[0m\u001b[0;34m\u001b[0m\u001b[0;34m\u001b[0m\u001b[0m\n\u001b[1;32m     70\u001b[0m         \u001b[0;32mfor\u001b[0m \u001b[0mepoch\u001b[0m \u001b[0;32min\u001b[0m \u001b[0mrange\u001b[0m\u001b[0;34m(\u001b[0m\u001b[0mself\u001b[0m\u001b[0;34m.\u001b[0m\u001b[0mepochs\u001b[0m\u001b[0;34m)\u001b[0m\u001b[0;34m:\u001b[0m\u001b[0;34m\u001b[0m\u001b[0;34m\u001b[0m\u001b[0m\n\u001b[0;32m---&gt; 71\u001b[0;31m             \u001b[0mself\u001b[0m\u001b[0;34m.\u001b[0m\u001b[0m_update\u001b[0m\u001b[0;34m(\u001b[0m\u001b[0;34m)\u001b[0m\u001b[0;34m\u001b[0m\u001b[0;34m\u001b[0m\u001b[0m\n\u001b[0m\u001b[1;32m     72\u001b[0m             \u001b[0merror\u001b[0m \u001b[0;34m=\u001b[0m \u001b[0mself\u001b[0m\u001b[0;34m.\u001b[0m\u001b[0m_classification_error\u001b[0m\u001b[0;34m(\u001b[0m\u001b[0;34m)\u001b[0m\u001b[0;34m\u001b[0m\u001b[0;34m\u001b[0m\u001b[0m\n\u001b[1;32m     73\u001b[0m             \u001b[0mprint\u001b[0m\u001b[0;34m(\u001b[0m\u001b[0;34mf&quot;Epoch {epoch}: {error}&quot;\u001b[0m\u001b[0;34m)\u001b[0m\u001b[0;34m\u001b[0m\u001b[0;34m\u001b[0m\u001b[0m\n",
      "\u001b[0;32m&lt;ipython-input-43-51873918d9a5&gt;\u001b[0m in \u001b[0;36m_update\u001b[0;34m(self)\u001b[0m\n\u001b[1;32m     53\u001b[0m             \u001b[0mself\u001b[0m\u001b[0;34m.\u001b[0m\u001b[0mw1\u001b[0m \u001b[0;34m+=\u001b[0m \u001b[0mdw1\u001b[0m\u001b[0;34m\u001b[0m\u001b[0;34m\u001b[0m\u001b[0m\n\u001b[1;32m     54\u001b[0m             \u001b[0mself\u001b[0m\u001b[0;34m.\u001b[0m\u001b[0mw2\u001b[0m \u001b[0;34m+=\u001b[0m \u001b[0mdw2\u001b[0m\u001b[0;34m\u001b[0m\u001b[0;34m\u001b[0m\u001b[0m\n\u001b[0;32m---&gt; 55\u001b[0;31m             \u001b[0mself\u001b[0m\u001b[0;34m.\u001b[0m\u001b[0mw3\u001b[0m \u001b[0;34m+=\u001b[0m \u001b[0mdw3\u001b[0m\u001b[0;34m\u001b[0m\u001b[0;34m\u001b[0m\u001b[0m\n\u001b[0m\u001b[1;32m     56\u001b[0m             \u001b[0mself\u001b[0m\u001b[0;34m.\u001b[0m\u001b[0mt1\u001b[0m \u001b[0;34m+=\u001b[0m \u001b[0mdt1\u001b[0m\u001b[0;34m\u001b[0m\u001b[0;34m\u001b[0m\u001b[0m\n\u001b[1;32m     57\u001b[0m             \u001b[0mself\u001b[0m\u001b[0;34m.\u001b[0m\u001b[0mt2\u001b[0m \u001b[0;34m+=\u001b[0m \u001b[0mdt2\u001b[0m\u001b[0;34m\u001b[0m\u001b[0;34m\u001b[0m\u001b[0m\n",
      "\u001b[0;31mValueError\u001b[0m: non-broadcastable output operand with shape (1,4) doesn&#39;t match the broadcast shape (4,4)"
     ]
    }
   ],
   "source": [
    "m1 = 8\n",
    "m2 = 4\n",
    "\n",
    "class TwoLayerPerceptron():\n",
    "    def __init__(self, training, validation, learning_rate = 0.02, epochs = 1000):\n",
    "        self.training = training\n",
    "        self.validation = validation\n",
    "        self.learning_rate = learning_rate\n",
    "        self.epochs = epochs\n",
    "        self.w1 = self._initialize_weights(m1, 2)\n",
    "        self.w2 = self._initialize_weights(m2, m1)\n",
    "        self.w3 = self._initialize_weights(1, m2)\n",
    "        self.t1 = self._initialize_thresholds(m1, 1)\n",
    "        self.t2 = self._initialize_thresholds(m2, 1)\n",
    "        self.t3 = self._initialize_thresholds(1, 1)\n",
    "\n",
    "    def _initialize_weights(self, m, n, mu = 0, sigma = 1):\n",
    "        size = (m, n)\n",
    "        w = np.random.normal(mu, sigma, size = size)\n",
    "        return w\n",
    "\n",
    "    def _initialize_thresholds(self, m, n):\n",
    "        size = (m, n)\n",
    "        t = np.zeros(size)\n",
    "        return t\n",
    "\n",
    "    def feed_forward(self, inputs):\n",
    "        output1 = np.tanh(self.w1 @ inputs - self.t1)\n",
    "        output2 = np.tanh(self.w2 @ output1 - self.t2)\n",
    "        output3 = np.tanh(self.w3 @ output2 - self.t3)\n",
    "        return output1, output2, output3\n",
    "\n",
    "    def propagate_back(self, inputs, target, output1, output2, output3):\n",
    "        error3 = (target - output3) * (1 - output3 ** 2)\n",
    "        error2 = np.multiply((np.transpose(self.w3) @ error3), (1 - output2 ** 2))\n",
    "        error1 = np.multiply((np.transpose(self.w2) @ error2), (1 - output1 ** 2))\n",
    "        dw3 = -1 * self.learning_rate * (-1 * error3 * np.transpose(output2))\n",
    "        dw2 = -1 * self.learning_rate * np.multiply(-1 * error2, np.transpose(output1))\n",
    "        dw1 = -1 * self.learning_rate * np.multiply(-1 * error1, np.transpose(inputs))\n",
    "        dt3 = -1 * self.learning_rate * error3\n",
    "        dt2 = -1 * self.learning_rate * error2\n",
    "        dt1 = -1 * self.learning_rate * error1\n",
    "        return dw1, dw2, dw3, dt1, dt2, dt3\n",
    "\n",
    "    def _update(self):\n",
    "        training = np.array(self.training.copy())\n",
    "        np.random.shuffle(training)\n",
    "        for pattern in training:\n",
    "            inputs = pattern[:-1].reshape(2,1)\n",
    "            target = pattern[-1].reshape(1,1)\n",
    "            output1, output2, output3 = self.feed_forward(inputs)\n",
    "            dw1, dw2, dw3, dt1, dt2, dt3 = self.propagate_back(inputs, target, output1, output2, output3)\n",
    "            self.w1 += dw1\n",
    "            self.w2 += dw2\n",
    "            self.w3 += dw3\n",
    "            self.t1 += dt1\n",
    "            self.t2 += dt2\n",
    "            self.t3 += dt3       \n",
    "\n",
    "    def _classification_error(self):\n",
    "        validation = np.array(self.validation.copy())\n",
    "        length = validation.shape[0]\n",
    "        targets = validation[:,-1].reshape(1, length)\n",
    "        inputs = validation[:,:-1].reshape(2, length)\n",
    "        output3 = self.feed_forward(inputs)[-1]\n",
    "        errors = np.sum(np.abs(np.sign(output3) - targets))\n",
    "        return 0.5 * errors / length\n",
    "\n",
    "    def train(self):\n",
    "        for epoch in range(self.epochs):\n",
    "            self._update()\n",
    "            error = self._classification_error()\n",
    "            print(f\"Epoch {epoch}: {error}\")\n",
    "            if error < 0.12:\n",
    "                print(f\"Converged after {index} iterations...\")\n",
    "                return True\n",
    "        print(\"\\nNo convergence...\\n\")\n",
    "        return False\n",
    "\n",
    "    def print(self):\n",
    "        print(f\"w1: {self.w1}\")\n",
    "        print(f\"w2: {self.w2}\")\n",
    "        print(f\"w3: {self.w3}\")\n",
    "        print(f\"t1: {self.t1}\")\n",
    "        print(f\"t2: {self.t2}\")\n",
    "        print(f\"t3: {self.t3}\")\n",
    "\n",
    "def main():\n",
    "    network = TwoLayerPerceptron(training, validation)\n",
    "    network.train()\n",
    "    network.print()\n",
    "\n",
    "if __name__ == \"__main__\":\n",
    "    main()"
   ]
  }
 ]
}