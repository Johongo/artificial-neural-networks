{
 "metadata": {
  "language_info": {
   "codemirror_mode": {
    "name": "ipython",
    "version": 3
   },
   "file_extension": ".py",
   "mimetype": "text/x-python",
   "name": "python",
   "nbconvert_exporter": "python",
   "pygments_lexer": "ipython3",
   "version": "3.8.5-final"
  },
  "orig_nbformat": 2,
  "kernelspec": {
   "name": "python38564bit8291f4d632074dd781e7b79199cb35e2",
   "display_name": "Python 3.8.5 64-bit"
  }
 },
 "nbformat": 4,
 "nbformat_minor": 2,
 "cells": [
  {
   "cell_type": "code",
   "execution_count": 12,
   "metadata": {},
   "outputs": [],
   "source": [
    "import numpy as np\n",
    "from tqdm import tqdm"
   ]
  },
  {
   "cell_type": "code",
   "execution_count": 13,
   "metadata": {
    "tags": []
   },
   "outputs": [
    {
     "output_type": "stream",
     "name": "stderr",
     "text": "100%|██████████| 100/100 [05:35<00:00,  3.35s/it]Done: 0.8673262805004562\n\n"
    }
   ],
   "source": [
    "n_bits = 200\n",
    "n_pattern = 45\n",
    "n_trials = 100\n",
    "n_updates = 200000\n",
    "\n",
    "# Each column is a pattern\n",
    "def generate_patterns(n_bits, n_pattern):\n",
    "    size = (n_bits, n_pattern)\n",
    "    p = np.random.randint(2, size = size)\n",
    "    p_transform = 2 * p - 1\n",
    "    return p_transform\n",
    "\n",
    "def weights(x):\n",
    "    size = (n_bits, n_bits)\n",
    "    weights = np.zeros(size)\n",
    "    for i in range(n_bits):\n",
    "        for j in range(n_bits):\n",
    "            weights[i, j] = weight(x, i, j)\n",
    "    return weights\n",
    "\n",
    "def weight(x, i, j):\n",
    "    if i == j:\n",
    "        return 0\n",
    "    return np.dot(x[i,:], x[j,:]) / n_bits\n",
    "\n",
    "def sigmoid(b, beta = 2):\n",
    "    return 1 / (1 + np.exp(-2 * b * beta))\n",
    "\n",
    "def stochastic_asynchronous_update(state, weights, i_bit):\n",
    "    sum = np.dot(state, weights[i_bit,:])\n",
    "    p = sigmoid(sum)\n",
    "    r = np.random.rand()\n",
    "    output = 1 if r < p else -1\n",
    "    return output\n",
    "\n",
    "def main():\n",
    "    m1_avg = 0\n",
    "    for _ in tqdm(range(n_trials)):\n",
    "        m1 = 0\n",
    "        patterns = generate_patterns(n_bits, n_pattern)\n",
    "        w = weights(patterns)\n",
    "        first = patterns[:,0]\n",
    "        state = first.copy()\n",
    "        for _ in range(n_updates):\n",
    "            i_bit = np.random.randint(n_bits)\n",
    "            output = stochastic_asynchronous_update(state, w, i_bit)\n",
    "            state[i_bit] = output\n",
    "            m1 += np.dot(state, first) / n_bits\n",
    "        m1_avg += m1 / n_updates\n",
    "    m1_avg /= n_trials\n",
    "    print(f\"\\nDone: {m1_avg:.4f}\")\n",
    "\n",
    "if __name__ == '__main__':\n",
    "    main()\n"
   ]
  },
  {
   "cell_type": "code",
   "execution_count": null,
   "metadata": {},
   "outputs": [],
   "source": []
  }
 ]
}