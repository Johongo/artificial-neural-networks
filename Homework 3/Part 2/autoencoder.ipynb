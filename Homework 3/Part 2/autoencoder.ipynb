{
 "metadata": {
  "language_info": {
   "codemirror_mode": {
    "name": "ipython",
    "version": 3
   },
   "file_extension": ".py",
   "mimetype": "text/x-python",
   "name": "python",
   "nbconvert_exporter": "python",
   "pygments_lexer": "ipython3",
   "version": "3.8.5-final"
  },
  "orig_nbformat": 2,
  "kernelspec": {
   "name": "Python 3.8.5 64-bit ('3.8.5')",
   "display_name": "Python 3.8.5 64-bit ('3.8.5')",
   "metadata": {
    "interpreter": {
     "hash": "fbf599a900ce400eb7a3a7d921c6d7bb2d1082ff9f9e1eebf399936d666fe1df"
    }
   }
  }
 },
 "nbformat": 4,
 "nbformat_minor": 2,
 "cells": [
  {
   "cell_type": "code",
   "execution_count": null,
   "metadata": {},
   "outputs": [],
   "source": [
    "# Packages\n",
    "import matplotlib.pyplot as plt\n",
    "from matplotlib.cm import get_cmap\n",
    "import numpy as np\n",
    "import pandas as pd\n",
    "import tensorflow as tf\n",
    "\n",
    "from sklearn.metrics import accuracy_score, precision_score, recall_score\n",
    "from sklearn.model_selection import train_test_split\n",
    "from tensorflow.keras import layers, losses, regularizers\n",
    "from tensorflow.keras.datasets import mnist\n",
    "from tensorflow.keras.models import Model, load_model\n"
   ]
  },
  {
   "cell_type": "code",
   "execution_count": null,
   "metadata": {},
   "outputs": [],
   "source": [
    "# Data\n",
    "(x_train, y_train), (x_test, y_test) = mnist.load_data()\n",
    "x_train = x_train.astype(\"float32\") / 255\n",
    "x_test = x_test.astype(\"float32\") / 255\n"
   ]
  },
  {
   "cell_type": "code",
   "execution_count": null,
   "metadata": {},
   "outputs": [],
   "source": [
    "# Autoencoder model class\n",
    "weight_decay = 1e-4\n",
    "kernel_regularizer = regularizers.l2(weight_decay)\n",
    "\n",
    "class Autoencoder(Model):\n",
    "  def __init__(self, latent_dim):\n",
    "    super(Autoencoder, self).__init__()\n",
    "    self.latent_dim = latent_dim   \n",
    "    self.encoder = tf.keras.Sequential([\n",
    "      layers.Flatten(),\n",
    "      layers.Dense(50, kernel_initializer=\"glorot_uniform\", activation=\"relu\", kernel_regularizer=kernel_regularizer),\n",
    "      layers.Dense(latent_dim, kernel_initializer=\"glorot_uniform\", activation=\"relu\", kernel_regularizer=kernel_regularizer),\n",
    "    ])\n",
    "    self.decoder = tf.keras.Sequential([\n",
    "      layers.Dense(784, kernel_initializer=\"glorot_uniform\", activation=\"sigmoid\", kernel_regularizer=kernel_regularizer),\n",
    "      layers.Reshape((28, 28))\n",
    "    ])\n",
    "\n",
    "  def call(self, x):\n",
    "    encoded = self.encoder(x)\n",
    "    decoded = self.decoder(encoded)\n",
    "    return decoded\n"
   ]
  },
  {
   "cell_type": "code",
   "execution_count": null,
   "metadata": {
    "tags": []
   },
   "outputs": [],
   "source": [
    "# Model definition (Autoencoder #1)\n",
    "autoencoder = Autoencoder(2)\n",
    "\n",
    "# Model compilation\n",
    "autoencoder.compile(optimizer=\"adam\", loss=losses.MeanSquaredError())\n",
    "\n",
    "# Model fit\n",
    "epochs = 800\n",
    "batch_size = 128\n",
    "\n",
    "history = autoencoder.fit(\n",
    "    x=x_train,\n",
    "    y=x_train,\n",
    "    epochs=epochs,\n",
    "    batch_size=batch_size,\n",
    "    validation_data=(x_test, x_test),\n",
    ")\n",
    "\n",
    "autoencoder.save(\"autoencoder\")\n",
    "# autoencoder = load_model(\"autoencoder1\")\n"
   ]
  },
  {
   "cell_type": "code",
   "execution_count": null,
   "metadata": {},
   "outputs": [],
   "source": [
    "# Montage (Autoencoder #1)\n",
    "\n",
    "# Encode and decode images\n",
    "encoded_imgs = autoencoder.encoder(x_test).numpy()\n",
    "decoded_imgs = autoencoder.decoder(encoded_imgs).numpy()\n",
    "\n",
    "# Plot sample of reconstructed digits\n",
    "numbers = [13, 5, 1, 32, 42, 52, 50, 64, 61, 99]\n",
    "\n",
    "n = len(numbers)\n",
    "plt.figure(figsize=(2 * n, 4))\n",
    "for i in range(n):\n",
    "  ax = plt.subplot(2, n, i+1)\n",
    "  plt.imshow(x_test[numbers[i]])\n",
    "  plt.title(\"Original\")\n",
    "  plt.gray()\n",
    "  ax.get_xaxis().set_visible(False)\n",
    "  ax.get_yaxis().set_visible(False)\n",
    "\n",
    "  ax = plt.subplot(2, n, i+1+n)\n",
    "  plt.imshow(decoded_imgs[numbers[i]])\n",
    "  plt.title(\"Reconstructed\")\n",
    "  plt.gray()\n",
    "  ax.get_xaxis().set_visible(False)\n",
    "  ax.get_yaxis().set_visible(False)\n",
    "\n",
    "# plt.savefig('reconstruction.png', bbox_inches='tight')\n",
    "plt.show()\n"
   ]
  },
  {
   "cell_type": "code",
   "execution_count": null,
   "metadata": {},
   "outputs": [],
   "source": [
    "# Scatterplot (Autoencoder #1)\n",
    "\n",
    "# Encoded digits\n",
    "x_train_encoded = autoencoder.encoder.predict(x_train, batch_size=batch_size)\n",
    "x_subset = autoencoder.encoder.predict(x_test[:1000], batch_size=batch_size)\n",
    "y_subset = y_train[:1000]\n",
    "\n",
    "plt.figure(figsize=(8, 6))\n",
    "plt.axes().set_aspect('equal', adjustable='datalim')\n",
    "colors = ['tab:blue', 'tab:orange', 'tab:green']\n",
    "\n",
    "# Digits reproduced WELL\n",
    "legends = []\n",
    "for index in range(0, 2):\n",
    "    plt.scatter(x_train_encoded[y_train == index, 0], x_train_encoded[y_train == index, 1], c=colors[index], alpha=0.5)\n",
    "    legends.append(str(index))\n",
    "\n",
    "# Digits reprouced POORLY\n",
    "for index in range(2, 10):\n",
    "    plt.scatter(x_subset[y_subset == index, 0], x_subset[y_subset == index, 1], c=colors[-1], alpha=0.3)\n",
    "legends.append(\"≥ 2\")\n",
    "\n",
    "plt.legend(legends)\n",
    "# plt.savefig('scatterplot.png', bbox_inches='tight')\n",
    "plt.show()"
   ]
  },
  {
   "cell_type": "code",
   "execution_count": null,
   "metadata": {
    "tags": []
   },
   "outputs": [],
   "source": [
    "# Model definition (Autoencoder #2)\n",
    "autoencoder2 = Autoencoder(4)\n",
    "\n",
    "# Model compilation\n",
    "autoencoder2.compile(optimizer=\"adam\", loss=losses.MeanSquaredError())\n",
    "\n",
    "# Model fit\n",
    "epochs = 800\n",
    "batch_size = 128\n",
    "\n",
    "history = autoencoder2.fit(\n",
    "    x=x_train,\n",
    "    y=x_train,\n",
    "    epochs=epochs,\n",
    "    batch_size=batch_size,\n",
    "    validation_data=(x_test, x_test),\n",
    ")\n",
    "\n",
    "autoencoder2.save(\"autoencoder2\")\n",
    "#autoencoder2 = load_model(\"autoencoder2\")\n"
   ]
  },
  {
   "cell_type": "code",
   "execution_count": null,
   "metadata": {},
   "outputs": [],
   "source": [
    "# Montage (Autoencoder #2)\n",
    "\n",
    "# Encode and decode images\n",
    "encoded_imgs = autoencoder2.encoder(x_test).numpy()\n",
    "decoded_imgs = autoencoder2.decoder(encoded_imgs).numpy()\n",
    "\n",
    "# Plot sample of reconstructed digits\n",
    "numbers = [13, 5, 1, 32, 42, 52, 50, 64, 61, 99]\n",
    "\n",
    "n = len(numbers)\n",
    "plt.figure(figsize=(2 * n, 4))\n",
    "for i in range(n):\n",
    "  ax = plt.subplot(2, n, i+1)\n",
    "  plt.imshow(x_test[numbers[i]])\n",
    "  plt.title(\"Original\")\n",
    "  plt.gray()\n",
    "  ax.get_xaxis().set_visible(False)\n",
    "  ax.get_yaxis().set_visible(False)\n",
    "\n",
    "  ax = plt.subplot(2, n, i+1+n)\n",
    "  plt.imshow(decoded_imgs[numbers[i]])\n",
    "  plt.title(\"Reconstructed\")\n",
    "  plt.gray()\n",
    "  ax.get_xaxis().set_visible(False)\n",
    "  ax.get_yaxis().set_visible(False)\n",
    "\n",
    "# plt.savefig('reconstruction2.png', bbox_inches='tight')\n",
    "plt.show()"
   ]
  }
 ]
}