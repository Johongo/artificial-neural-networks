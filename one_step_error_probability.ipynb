{
 "metadata": {
  "language_info": {
   "codemirror_mode": {
    "name": "ipython",
    "version": 3
   },
   "file_extension": ".py",
   "mimetype": "text/x-python",
   "name": "python",
   "nbconvert_exporter": "python",
   "pygments_lexer": "ipython3",
   "version": "3.8.5-final"
  },
  "orig_nbformat": 2,
  "kernelspec": {
   "name": "python38564bit8291f4d632074dd781e7b79199cb35e2",
   "display_name": "Python 3.8.5 64-bit"
  }
 },
 "nbformat": 4,
 "nbformat_minor": 2,
 "cells": [
  {
   "cell_type": "code",
   "execution_count": 9,
   "metadata": {},
   "outputs": [],
   "source": [
    "import numpy as np\n"
   ]
  },
  {
   "cell_type": "code",
   "execution_count": 72,
   "metadata": {
    "tags": []
   },
   "outputs": [
    {
     "output_type": "stream",
     "name": "stdout",
     "text": "0.0001\n0.0029\n0.0129\n0.0179\n0.0215\n0.0230\n"
    }
   ],
   "source": [
    "trials = 100000\n",
    "n_bits = 120\n",
    "n_patterns = [12, 24, 48, 70, 100, 120]\n",
    "zero_diagonal = False\n",
    "\n",
    "# Each column is a pattern\n",
    "def generate_patterns(n_bits, n_pattern):\n",
    "    size = (n_bits, n_pattern)\n",
    "    p = np.random.randint(2, size = size)\n",
    "    p_transform = 2 * p - 1\n",
    "    return p_transform\n",
    "\n",
    "\n",
    "def weight(x, i, j):\n",
    "    if i == j and zero_diagonal:\n",
    "        return 0\n",
    "    sum = 0\n",
    "    rows, cols = np.shape(x)\n",
    "    for mu in range(cols):\n",
    "        sum += x[i, mu] * x[j, mu]\n",
    "    sum /= rows\n",
    "    return sum\n",
    "\n",
    "\n",
    "def sgn(x):\n",
    "    return 1 if x >= 0 else -1\n",
    "\n",
    "\n",
    "def asynchronous_update(x, i_pattern, i_bit):\n",
    "    sum = 0\n",
    "    for j in range(n_bits):\n",
    "        sum += x[j, i_pattern] * weight(x, i_bit, j)\n",
    "    output = sgn(sum)\n",
    "    return output\n",
    "\n",
    "\n",
    "def main():\n",
    "    for n_pattern in n_patterns:\n",
    "        n_error = 0\n",
    "        for trial in range(trials):\n",
    "            patterns = generate_patterns(n_bits, n_pattern)\n",
    "            i_pattern = np.random.randint(n_pattern)\n",
    "            i_bit = np.random.randint(n_bits)\n",
    "            output = asynchronous_update(patterns, i_pattern, i_bit)\n",
    "            n_error += 0 if patterns[i_bit, i_pattern] == output else 1\n",
    "        p_error = n_error / trials\n",
    "        print(f\"{p_error:.4f}\")\n",
    "\n",
    "\n",
    "if __name__ == '__main__':\n",
    "    main()\n"
   ]
  }
 ]
}