{
 "metadata": {
  "language_info": {
   "codemirror_mode": {
    "name": "ipython",
    "version": 3
   },
   "file_extension": ".py",
   "mimetype": "text/x-python",
   "name": "python",
   "nbconvert_exporter": "python",
   "pygments_lexer": "ipython3",
   "version": "3.8.5-final"
  },
  "orig_nbformat": 2,
  "kernelspec": {
   "name": "python38564bit8291f4d632074dd781e7b79199cb35e2",
   "display_name": "Python 3.8.5 64-bit"
  }
 },
 "nbformat": 4,
 "nbformat_minor": 2,
 "cells": [
  {
   "cell_type": "code",
   "execution_count": 148,
   "metadata": {},
   "outputs": [],
   "source": [
    "import numpy as np\n",
    "import pickle\n"
   ]
  },
  {
   "cell_type": "code",
   "execution_count": 196,
   "metadata": {
    "tags": []
   },
   "outputs": [],
   "source": [
    "with open('patterns.pkl', 'rb') as f:\n",
    "    patterns = pickle.load(f)\n",
    "\n",
    "with open ('distorted.pkl', 'rb') as f:\n",
    "    distorted = pickle.load(f)\n"
   ]
  },
  {
   "cell_type": "code",
   "execution_count": 204,
   "metadata": {
    "tags": []
   },
   "outputs": [
    {
     "output_type": "stream",
     "name": "stdout",
     "text": "Starting...\n\n##------##\n##-------#\n######---#\n######---#\n######---#\n######---#\n######---#\n##------##\n##------##\n######---#\n######---#\n######---#\n######---#\n######---#\n##-------#\n##------##\n\nDone!\n\n##------##\n##-------#\n######---#\n######---#\n######---#\n######---#\n######---#\n##------##\n##------##\n######---#\n######---#\n######---#\n######---#\n######---#\n##-------#\n##------##\n[[ 1.  1. -1. -1. -1. -1. -1. -1.  1.  1.]\n [ 1.  1. -1. -1. -1. -1. -1. -1. -1.  1.]\n [ 1.  1.  1.  1.  1.  1. -1. -1. -1.  1.]\n [ 1.  1.  1.  1.  1.  1. -1. -1. -1.  1.]\n [ 1.  1.  1.  1.  1.  1. -1. -1. -1.  1.]\n [ 1.  1.  1.  1.  1.  1. -1. -1. -1.  1.]\n [ 1.  1.  1.  1.  1.  1. -1. -1. -1.  1.]\n [ 1.  1. -1. -1. -1. -1. -1. -1.  1.  1.]\n [ 1.  1. -1. -1. -1. -1. -1. -1.  1.  1.]\n [ 1.  1.  1.  1.  1.  1. -1. -1. -1.  1.]\n [ 1.  1.  1.  1.  1.  1. -1. -1. -1.  1.]\n [ 1.  1.  1.  1.  1.  1. -1. -1. -1.  1.]\n [ 1.  1.  1.  1.  1.  1. -1. -1. -1.  1.]\n [ 1.  1.  1.  1.  1.  1. -1. -1. -1.  1.]\n [ 1.  1. -1. -1. -1. -1. -1. -1. -1.  1.]\n [ 1.  1. -1. -1. -1. -1. -1. -1.  1.  1.]]\n"
    }
   ],
   "source": [
    "n_bits = 160\n",
    "n_pattern = 5\n",
    "\n",
    "def weights(x):\n",
    "    weights = np.zeros((n_bits, n_bits))\n",
    "    for i in range(n_bits):\n",
    "        for j in range(n_bits):\n",
    "            weights[i, j] = weight(x, i, j)\n",
    "    return weights\n",
    "\n",
    "def weight(x, i, j):\n",
    "    if i == j:\n",
    "        return 0\n",
    "    sum = 0\n",
    "    rows, cols = np.shape(x)\n",
    "    for mu in range(cols):\n",
    "        sum += x[i, mu] * x[j, mu]\n",
    "    sum /= rows\n",
    "    return sum\n",
    "\n",
    "def sgn(x):\n",
    "    return 1 if x >= 0 else -1\n",
    "\n",
    "def asynchronous_update(distorted, weights, i_bit):\n",
    "    sum = 0\n",
    "    for j in range(n_bits):\n",
    "        sum += distorted[j] * weights[i_bit, j]\n",
    "    output = sgn(sum)\n",
    "    return output\n",
    "\n",
    "def check_converged(patterns, distorted):\n",
    "    for i in range(patterns.shape[1]):\n",
    "        if np.array_equal(patterns[:,i], distorted):\n",
    "            return True\n",
    "        if np.array_equal(-patterns[:,i], distorted):\n",
    "            return True\n",
    "    return False\n",
    "\n",
    "def main():\n",
    "    w = weights(patterns)\n",
    "    dist = distorted[:,2]\n",
    "    \n",
    "    print(\"Starting...\\n\")\n",
    "    draw_digit(dist)\n",
    "\n",
    "    converged = check_converged(patterns, dist)\n",
    "    while not converged:\n",
    "        # Typewriter scheme\n",
    "        for i_bit in range(n_bits):\n",
    "            before = dist[i_bit]\n",
    "            output = asynchronous_update(dist, w, i_bit)\n",
    "            dist[i_bit] = output\n",
    "            if before != output:\n",
    "                converged = check_converged(patterns, dist)  \n",
    "    \n",
    "    print(\"\\nDone!\\n\")\n",
    "    draw_digit(dist)\n",
    "\n",
    "if __name__ == '__main__':\n",
    "    main()\n"
   ]
  },
  {
   "cell_type": "code",
   "execution_count": 109,
   "metadata": {
    "tags": []
   },
   "outputs": [
    {
     "output_type": "stream",
     "name": "stdout",
     "text": "--######--\n--#######-\n------###-\n------###-\n------###-\n------###-\n------###-\n--######--\n--######--\n------###-\n------###-\n------###-\n------###-\n------###-\n--#######-\n--######--\n-##----##-\n-##----##-\n-##----##-\n-##----##-\n-##----##-\n-##----##-\n-##----##-\n-########-\n-########-\n-------##-\n-------##-\n-------##-\n-------##-\n-------##-\n-------##-\n-------##-\n"
    }
   ],
   "source": [
    "def draw_digit(pattern):\n",
    "    rows, cols = 16, 10\n",
    "    for i in range(rows):\n",
    "        for j in range(cols):\n",
    "            if pattern[cols * i + j] == 1:\n",
    "                print('#', end='')\n",
    "            else:\n",
    "                print('-', end='')\n",
    "        print()\n",
    "\n",
    "def draw_digit_matrix(pattern):\n",
    "    rows, cols = pattern.shape\n",
    "    for i in range(rows):\n",
    "        for j in range(cols):\n",
    "            if pattern[i,j] == 1:\n",
    "                print('#', end='')\n",
    "            else:\n",
    "                print('-', end='')\n",
    "        print()\n"
   ]
  },
  {
   "cell_type": "markdown",
   "metadata": {},
   "source": []
  }
 ]
}